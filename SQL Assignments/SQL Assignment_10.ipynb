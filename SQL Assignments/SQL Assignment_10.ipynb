{
 "cells": [
  {
   "cell_type": "code",
   "execution_count": null,
   "id": "d45ee2a1",
   "metadata": {},
   "outputs": [],
   "source": [
    "Q-19. Write an SQL query to determine the 5th highest salary without using TOP or limit method."
   ]
  },
  {
   "cell_type": "code",
   "execution_count": null,
   "id": "7278429a",
   "metadata": {},
   "outputs": [],
   "source": [
    "ans :\n",
    "    \n",
    "CREATE TABLE Worker (\n",
    "\tWORKER_ID INT NOT NULL PRIMARY KEY AUTO_INCREMENT,\n",
    "\tFIRST_NAME CHAR(25),\n",
    "\tLAST_NAME CHAR(25),\n",
    "\tSALARY INT(15),\n",
    "\tJOINING_DATE DATETIME,\n",
    "\tDEPARTMENT CHAR(25),\n",
    "    EMAIL VARCHAR(100)\n",
    ");\n",
    "\n",
    "INSERT INTO Worker \n",
    "\t(WORKER_ID, FIRST_NAME, LAST_NAME, SALARY, JOINING_DATE, DEPARTMENT,EMAIL) VALUES\n",
    "\t\t(001, 'Monika', 'Arora', 100000, '14-02-20 09.00.00', 'HR','monikaarora1@gmail.com'),\n",
    "\t\t(002, 'Niharika', 'Verma', 80000, '14-06-11 09.00.00', 'Admin','niharikaarora1@gmail.com'),\n",
    "\t\t(003, 'Vishal', 'Singhal', 300000, '14-02-20 09.00.00', 'HR','vishalsinghal1@gmail.com'),\n",
    "\t\t(004, 'Amitabh', 'Singh', 500000, '14-02-20 09.00.00', 'Admin','amitabhsingh1@gmail.com'),\n",
    "\t\t(005, 'Vivek', 'Bhati', 500000, '14-06-11 09.00.00', 'Admin','vivekbhati1@gmail.com'),\n",
    "\t\t(006, 'Vipul', 'Diwan', 200000, '14-06-11 09.00.00', 'Account','vipuldiwan1@gmail.com'),\n",
    "\t\t(007, 'Satish', 'Kumar', 75000, '14-01-20 09.00.00', 'Account','satishkumar1@gmail.com'),\n",
    "\t\t(008, 'Geetika', 'Chauhan', 90000, '14-04-11 09.00.00', 'Admin','geetikachauhan1@gmail.com');\n",
    "        \n",
    "SELECT Salary\n",
    "FROM Worker W1\n",
    "WHERE  (\n",
    " SELECT COUNT( DISTINCT ( W2.Salary ) )\n",
    " FROM Worker W2\n",
    " WHERE W2.Salary >= W1.Salary\n",
    " )= 5;"
   ]
  },
  {
   "cell_type": "code",
   "execution_count": null,
   "id": "ad8a269b",
   "metadata": {},
   "outputs": [],
   "source": [
    "Q-20. Write an SQL query to fetch the list of employees with the same salary."
   ]
  },
  {
   "cell_type": "code",
   "execution_count": null,
   "id": "e07219c9",
   "metadata": {},
   "outputs": [],
   "source": [
    "ans : \n",
    "    \n",
    "Select distinct W.WORKER_ID, W.FIRST_NAME, W.Salary \n",
    "from Worker W, Worker W1 \n",
    "where W.Salary = W1.Salary \n",
    "and W.WORKER_ID != W1.WORKER_ID;"
   ]
  }
 ],
 "metadata": {
  "kernelspec": {
   "display_name": "Python 3 (ipykernel)",
   "language": "python",
   "name": "python3"
  },
  "language_info": {
   "codemirror_mode": {
    "name": "ipython",
    "version": 3
   },
   "file_extension": ".py",
   "mimetype": "text/x-python",
   "name": "python",
   "nbconvert_exporter": "python",
   "pygments_lexer": "ipython3",
   "version": "3.9.12"
  }
 },
 "nbformat": 4,
 "nbformat_minor": 5
}
