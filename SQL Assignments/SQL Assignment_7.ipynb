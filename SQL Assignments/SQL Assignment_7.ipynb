{
 "cells": [
  {
   "cell_type": "code",
   "execution_count": null,
   "id": "d45ee2a1",
   "metadata": {},
   "outputs": [],
   "source": [
    "Q-13. Write an SQL query to show only odd rows from a table."
   ]
  },
  {
   "cell_type": "code",
   "execution_count": null,
   "id": "7278429a",
   "metadata": {},
   "outputs": [],
   "source": [
    "ans : SELECT * FROM Table_name WHERE MOD (column_name, 2) <> 0;"
   ]
  },
  {
   "cell_type": "code",
   "execution_count": null,
   "id": "ad8a269b",
   "metadata": {},
   "outputs": [],
   "source": [
    "Q-14. Write an SQL query to clone a new table from another table."
   ]
  },
  {
   "cell_type": "code",
   "execution_count": null,
   "id": "e07219c9",
   "metadata": {},
   "outputs": [],
   "source": [
    "ans :  \n",
    "    CREATE TABLE new_table_name LIKE table_to_be_clone;\n",
    "    SELECT * FROM new_table_name;"
   ]
  }
 ],
 "metadata": {
  "kernelspec": {
   "display_name": "Python 3 (ipykernel)",
   "language": "python",
   "name": "python3"
  },
  "language_info": {
   "codemirror_mode": {
    "name": "ipython",
    "version": 3
   },
   "file_extension": ".py",
   "mimetype": "text/x-python",
   "name": "python",
   "nbconvert_exporter": "python",
   "pygments_lexer": "ipython3",
   "version": "3.9.12"
  }
 },
 "nbformat": 4,
 "nbformat_minor": 5
}
