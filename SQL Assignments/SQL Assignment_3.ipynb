{
 "cells": [
  {
   "cell_type": "markdown",
   "id": "9eeaf243",
   "metadata": {},
   "source": [
    "Q-1. Write an SQL query to print the FIRST_NAME from Worker table after removing white spaces from the right side."
   ]
  },
  {
   "cell_type": "markdown",
   "id": "f27a62f5",
   "metadata": {},
   "source": [
    "Select RTRIM(FIRST_NAME) from Worker;"
   ]
  },
  {
   "cell_type": "markdown",
   "id": "4c3ff57f",
   "metadata": {},
   "source": [
    "Q-2. Write an SQL query that fetches the unique values of DEPARTMENT from Worker table and prints its length."
   ]
  },
  {
   "cell_type": "markdown",
   "id": "da4b092e",
   "metadata": {},
   "source": [
    "Select distinct length(DEPARTMENT) from Worker;"
   ]
  },
  {
   "cell_type": "markdown",
   "id": "fecd1fa7",
   "metadata": {},
   "source": [
    "Q-3. Write an SQL query to fetch nth max salaries from a table."
   ]
  },
  {
   "cell_type": "markdown",
   "id": "311534de",
   "metadata": {},
   "source": [
    "<!-- make copy of employee table  as Employee1 and Employee2.  -->\n",
    "\n",
    "SELECT salary FROM Employee1 WHERE N-1 = (SELECT COUNT(DISTINCT salary) FROM Employee2 WHERE \n",
    "Employee2.salary > Employee1.salary)"
   ]
  }
 ],
 "metadata": {
  "kernelspec": {
   "display_name": "Python 3 (ipykernel)",
   "language": "python",
   "name": "python3"
  },
  "language_info": {
   "codemirror_mode": {
    "name": "ipython",
    "version": 3
   },
   "file_extension": ".py",
   "mimetype": "text/x-python",
   "name": "python",
   "nbconvert_exporter": "python",
   "pygments_lexer": "ipython3",
   "version": "3.9.12"
  }
 },
 "nbformat": 4,
 "nbformat_minor": 5
}
