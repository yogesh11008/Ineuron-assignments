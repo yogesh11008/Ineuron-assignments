{
 "cells": [
  {
   "cell_type": "markdown",
   "id": "1756b54a",
   "metadata": {},
   "source": [
    "Q-1. Write an SQL query to fetch “FIRST_NAME” from Worker table using the alias\n",
    "name as WORKER_NAME "
   ]
  },
  {
   "cell_type": "markdown",
   "id": "4221ce99",
   "metadata": {},
   "source": [
    "SELECT FIRST_NAME as WORKER_NAME from Worker"
   ]
  },
  {
   "cell_type": "markdown",
   "id": "4c8ccdf2",
   "metadata": {},
   "source": [
    "Q-2. Write an SQL query to fetch unique values of DEPARTMENT from Worker table."
   ]
  },
  {
   "cell_type": "markdown",
   "id": "8e670fa2",
   "metadata": {},
   "source": [
    "SELECT DISTINCT DEPARTMENT FROM Worker;"
   ]
  },
  {
   "cell_type": "markdown",
   "id": "eb4bcc85",
   "metadata": {},
   "source": [
    "Q-3. Write an SQL query to show the last 5 record from a table."
   ]
  },
  {
   "cell_type": "markdown",
   "id": "679bd1c1",
   "metadata": {},
   "source": [
    "SELECT TOP 5 * FROM TABLE ORDER BY DESC"
   ]
  }
 ],
 "metadata": {
  "kernelspec": {
   "display_name": "Python 3 (ipykernel)",
   "language": "python",
   "name": "python3"
  },
  "language_info": {
   "codemirror_mode": {
    "name": "ipython",
    "version": 3
   },
   "file_extension": ".py",
   "mimetype": "text/x-python",
   "name": "python",
   "nbconvert_exporter": "python",
   "pygments_lexer": "ipython3",
   "version": "3.9.12"
  }
 },
 "nbformat": 4,
 "nbformat_minor": 5
}
