{
 "cells": [
  {
   "cell_type": "code",
   "execution_count": null,
   "id": "d45ee2a1",
   "metadata": {},
   "outputs": [],
   "source": [
    "Q-1. Write an SQL query to print details of the Workers who have joined in Feb’2014."
   ]
  },
  {
   "cell_type": "code",
   "execution_count": null,
   "id": "7278429a",
   "metadata": {},
   "outputs": [],
   "source": [
    "ans : Select * from Worker where year(JOINING_DATE) = 2014 and month(JOINING_DATE) = 2;"
   ]
  },
  {
   "cell_type": "code",
   "execution_count": null,
   "id": "ad8a269b",
   "metadata": {},
   "outputs": [],
   "source": [
    "Q-2. Write an SQL query to fetch duplicate records having matching data in some fields of a table."
   ]
  },
  {
   "cell_type": "code",
   "execution_count": null,
   "id": "e07219c9",
   "metadata": {},
   "outputs": [],
   "source": [
    "ans : Below query gives multiple entry of first name . \n",
    "    Select COUNT(*) from Worker GROUP BY FIRST_NAME;"
   ]
  },
  {
   "cell_type": "code",
   "execution_count": null,
   "id": "b9c5f024",
   "metadata": {},
   "outputs": [],
   "source": [
    "Q-3. How to remove duplicate rows from Employees table."
   ]
  },
  {
   "cell_type": "code",
   "execution_count": null,
   "id": "b0fbc642",
   "metadata": {},
   "outputs": [],
   "source": [
    "ans : DELETE FROM [SampleDB].[dbo].[Employee]\n",
    "    WHERE ID NOT IN\n",
    "    (\n",
    "        SELECT MAX(ID) AS MaxRecordID\n",
    "        FROM [SampleDB].[dbo].[Employee]\n",
    "        GROUP BY [column1], \n",
    "                 [column2], \n",
    "                 [column3]\n",
    "    );"
   ]
  }
 ],
 "metadata": {
  "kernelspec": {
   "display_name": "Python 3 (ipykernel)",
   "language": "python",
   "name": "python3"
  },
  "language_info": {
   "codemirror_mode": {
    "name": "ipython",
    "version": 3
   },
   "file_extension": ".py",
   "mimetype": "text/x-python",
   "name": "python",
   "nbconvert_exporter": "python",
   "pygments_lexer": "ipython3",
   "version": "3.9.12"
  }
 },
 "nbformat": 4,
 "nbformat_minor": 5
}
